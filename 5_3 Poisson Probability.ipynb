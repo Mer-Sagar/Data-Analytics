{
 "cells": [
  {
   "cell_type": "code",
   "execution_count": 1,
   "id": "39ee44c6",
   "metadata": {},
   "outputs": [],
   "source": [
    "import matplotlib.pyplot as plt\n",
    "import math"
   ]
  },
  {
   "cell_type": "code",
   "execution_count": 2,
   "id": "748fc97b",
   "metadata": {},
   "outputs": [
    {
     "name": "stdout",
     "output_type": "stream",
     "text": [
      "Enter Value of x : 1\n",
      "Enter Value of x : 2\n",
      "Enter Value of x : 3\n",
      "Enter Value of x : 4\n",
      "Enter Value of x : 5\n",
      "Enter Value of x : 6\n",
      "Enter Value of x : 7\n",
      "Enter Value of x : 8\n",
      "Enter Value of x : 9\n",
      "Enter Value of x : 10\n"
     ]
    }
   ],
   "source": [
    "x = []\n",
    "\n",
    "e=2.71\n",
    "\n",
    "for i in range(1,11):\n",
    "    x.append(int(input(\"Enter Value of x : \")))    \n",
    "    "
   ]
  },
  {
   "cell_type": "code",
   "execution_count": 7,
   "id": "d13d646f",
   "metadata": {},
   "outputs": [
    {
     "name": "stdout",
     "output_type": "stream",
     "text": [
      "Enter Value of Mueue(M) : 6.1\n",
      "Enter Value of Mueue(M) : 6.2\n",
      "Enter Value of Mueue(M) : 6.3\n",
      "Enter Value of Mueue(M) : 6.4\n",
      "Enter Value of Mueue(M) : 6.5\n",
      "Enter Value of Mueue(M) : 6.6\n",
      "Enter Value of Mueue(M) : 6.7\n",
      "Enter Value of Mueue(M) : 6.8\n",
      "Enter Value of Mueue(M) : 6.9\n",
      "Enter Value of Mueue(M) : 7.0\n"
     ]
    }
   ],
   "source": [
    "Mu = []\n",
    "for j in range(1,11):\n",
    "    Mu.append(float(input(\"Enter Value of Mueue(M) : \")))    "
   ]
  },
  {
   "cell_type": "code",
   "execution_count": 8,
   "id": "948404ca",
   "metadata": {},
   "outputs": [
    {
     "name": "stdout",
     "output_type": "stream",
     "text": [
      "   Value Of X   |   Value Of M (Mueue)  |  Poisson Probability Function\n",
      "===========================================================================\n",
      "\t  1 \t|\t  6.1  \t \t|\t\t 0.01394\n",
      "\t  2 \t|\t  6.2  \t \t|\t\t 0.03975\n",
      "\t  3 \t|\t  6.3  \t \t|\t\t 0.07801\n",
      "\t  4 \t|\t  6.4  \t \t|\t\t 0.11844\n",
      "\t  5 \t|\t  6.5  \t \t|\t\t 0.14828\n",
      "\t  6 \t|\t  6.6  \t \t|\t\t 0.15934\n",
      "\t  7 \t|\t  6.7  \t \t|\t\t 0.15108\n",
      "\t  8 \t|\t  6.8  \t \t|\t\t 0.12893\n",
      "\t  9 \t|\t  6.9  \t \t|\t\t 0.10055\n",
      "\t  10 \t|\t  7.0  \t \t|\t\t 0.07252\n"
     ]
    }
   ],
   "source": [
    "l = len(x)\n",
    "\n",
    "pos = []\n",
    "\n",
    "print(\"   Value Of X   |   Value Of M (Mueue)  |  Poisson Probability Function\")\n",
    "print(\"=====\"*15)\n",
    "for i in range(0,l):\n",
    "    \n",
    "    pos.append(  round(( (math.pow(Mu[i],x[i])) * (math.pow(e,-Mu[i])) ) / (math.factorial(x[i]) ),5)  )\n",
    "    \n",
    "    print(\"\\t \",x[i],\"\\t|\\t \",Mu[i],\" \\t \\t|\\t\\t\",pos[i])  \n",
    "    "
   ]
  },
  {
   "cell_type": "code",
   "execution_count": 9,
   "id": "83cd7d5f",
   "metadata": {},
   "outputs": [
    {
     "data": {
      "text/plain": [
       "<BarContainer object of 10 artists>"
      ]
     },
     "execution_count": 9,
     "metadata": {},
     "output_type": "execute_result"
    },
    {
     "data": {
      "image/png": "[encoded data removed]",
      "text/plain": [
       "<Figure size 432x288 with 1 Axes>"
      ]
     },
     "metadata": {
      "needs_background": "light"
     },
     "output_type": "display_data"
    }
   ],
   "source": [
    "plt.title(\"Bar Graph of Poisson Probability\")\n",
    "plt.xlabel(\"Value of X\")\n",
    "plt.ylabel(\"Poisson Probability\")\n",
    "plt.bar(x,pos)\n"
   ]
  }
 ],
 "metadata": {
  "kernelspec": {
   "display_name": "Python 3 (ipykernel)",
   "language": "python",
   "name": "python3"
  },
  "language_info": {
   "codemirror_mode": {
    "name": "ipython",
    "version": 3
   },
   "file_extension": ".py",
   "mimetype": "text/x-python",
   "name": "python",
   "nbconvert_exporter": "python",
   "pygments_lexer": "ipython3",
   "version": "3.9.7"
  }
 },
 "nbformat": 4,
 "nbformat_minor": 5
}
