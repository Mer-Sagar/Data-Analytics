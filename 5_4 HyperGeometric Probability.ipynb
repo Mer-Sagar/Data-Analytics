{
 "cells": [
  {
   "cell_type": "code",
   "execution_count": 1,
   "id": "00dc31fd",
   "metadata": {},
   "outputs": [],
   "source": [
    "def fact(n):\n",
    "    if n <= 1:\n",
    "        return 1\n",
    "    else:\n",
    "        return (n * fact(n-1))"
   ]
  },
  {
   "cell_type": "code",
   "execution_count": 2,
   "id": "f9affab7",
   "metadata": {},
   "outputs": [],
   "source": [
    "def NCX(N,n):\n",
    "    upper = fact(N)\n",
    "    lower = (fact(n) * fact(N-n))\n",
    "    return (upper/lower)"
   ]
  },
  {
   "cell_type": "code",
   "execution_count": 3,
   "id": "fb8bb015",
   "metadata": {},
   "outputs": [
    {
     "data": {
      "text/plain": [
       "15.0"
      ]
     },
     "execution_count": 3,
     "metadata": {},
     "output_type": "execute_result"
    }
   ],
   "source": [
    "NCX(6,2)"
   ]
  },
  {
   "cell_type": "code",
   "execution_count": 4,
   "id": "b12ed27e",
   "metadata": {},
   "outputs": [
    {
     "name": "stdout",
     "output_type": "stream",
     "text": [
      "Enter value of r: 12\n"
     ]
    },
    {
     "data": {
      "text/plain": [
       "12.0"
      ]
     },
     "execution_count": 4,
     "metadata": {},
     "output_type": "execute_result"
    }
   ],
   "source": [
    "r=float(input(\"Enter value of r: \"))\n",
    "r"
   ]
  },
  {
   "cell_type": "code",
   "execution_count": 5,
   "id": "2e7a2574",
   "metadata": {},
   "outputs": [
    {
     "name": "stdout",
     "output_type": "stream",
     "text": [
      "Enter value of N: 6\n"
     ]
    },
    {
     "data": {
      "text/plain": [
       "6.0"
      ]
     },
     "execution_count": 5,
     "metadata": {},
     "output_type": "execute_result"
    }
   ],
   "source": [
    "N=float(input(\"Enter value of N: \"))\n",
    "N"
   ]
  },
  {
   "cell_type": "code",
   "execution_count": 6,
   "id": "13b8c9a0",
   "metadata": {},
   "outputs": [
    {
     "name": "stdout",
     "output_type": "stream",
     "text": [
      "Enter value of n: 3\n"
     ]
    },
    {
     "data": {
      "text/plain": [
       "3.0"
      ]
     },
     "execution_count": 6,
     "metadata": {},
     "output_type": "execute_result"
    }
   ],
   "source": [
    "n=float(input(\"Enter value of n: \"))\n",
    "n"
   ]
  },
  {
   "cell_type": "code",
   "execution_count": 7,
   "id": "6c9f74f3",
   "metadata": {},
   "outputs": [
    {
     "data": {
      "text/plain": [
       "[0.0083, 0.3, 3.3, 11.0, 24.75, 39.6, 46.2, 39.6, 24.75, 11.0]"
      ]
     },
     "execution_count": 7,
     "metadata": {},
     "output_type": "execute_result"
    }
   ],
   "source": [
    "x=[]\n",
    "fx=[]\n",
    "for i in range(10):\n",
    "    up = N-r\n",
    "    low = n-i\n",
    "    ans = round((NCX(r,i) * NCX(up,low)) / NCX(N,n),4)\n",
    "    fx.append(ans)\n",
    "    x.append(i)\n",
    "    \n",
    "fx"
   ]
  },
  {
   "cell_type": "code",
   "execution_count": 51,
   "id": "468addf6",
   "metadata": {},
   "outputs": [
    {
     "data": {
      "text/plain": [
       "<matplotlib.legend.Legend at 0x1d0169a5b40>"
      ]
     },
     "execution_count": 51,
     "metadata": {},
     "output_type": "execute_result"
    },
    {
     "data": {
      "image/png": "[encoded data removed]",
      "text/plain": [
       "<Figure size 432x288 with 1 Axes>"
      ]
     },
     "metadata": {
      "needs_background": "light"
     },
     "output_type": "display_data"
    }
   ],
   "source": [
    "import matplotlib.pyplot as plt\n",
    "plt.title(\"Bar Graph of X and F(X)\")\n",
    "plt.xlabel(\"X\")\n",
    "plt.ylabel(\"F(X)\")\n",
    "plt.legend(\"x\")\n",
    "plt.bar(x,fx,color=\"lightgreen\",edgecolor=\"black\")\n",
    "plt.legend(['HyperGeometric Probability'])"
   ]
  },
  {
   "cell_type": "code",
   "execution_count": 8,
   "id": "751b586e",
   "metadata": {},
   "outputs": [],
   "source": [
    "def ExpectedVal(N,n,r):\n",
    "    mu = (n * (r / N))\n",
    "    return mu\n"
   ]
  },
  {
   "cell_type": "code",
   "execution_count": 9,
   "id": "909aa069",
   "metadata": {},
   "outputs": [
    {
     "data": {
      "text/plain": [
       "1.25"
      ]
     },
     "execution_count": 9,
     "metadata": {},
     "output_type": "execute_result"
    }
   ],
   "source": [
    "mu = ExpectedVal(12,3,5)\n",
    "mu"
   ]
  },
  {
   "cell_type": "code",
   "execution_count": 10,
   "id": "9220d87d",
   "metadata": {},
   "outputs": [],
   "source": [
    "def Var(N,r,n,mu):\n",
    "    var = round(mu * (1-(r/N)) * (N-n)/(N-1),2)\n",
    "    return var"
   ]
  },
  {
   "cell_type": "code",
   "execution_count": 11,
   "id": "6d3a611c",
   "metadata": {},
   "outputs": [
    {
     "data": {
      "text/plain": [
       "0.6"
      ]
     },
     "execution_count": 11,
     "metadata": {},
     "output_type": "execute_result"
    }
   ],
   "source": [
    "Var(12,5,3,mu)"
   ]
  },
  {
   "cell_type": "code",
   "execution_count": 12,
   "id": "ae8fad95",
   "metadata": {},
   "outputs": [
    {
     "data": {
      "text/plain": [
       "0.5"
      ]
     },
     "execution_count": 12,
     "metadata": {},
     "output_type": "execute_result"
    }
   ],
   "source": [
    "ans = ((NCX(3,1) * NCX(10-3,4-1)) / NCX(10,4))\n",
    "ans"
   ]
  },
  {
   "cell_type": "code",
   "execution_count": 13,
   "id": "26c95ce3",
   "metadata": {},
   "outputs": [
    {
     "data": {
      "text/plain": [
       "0.06666666666666667"
      ]
     },
     "execution_count": 13,
     "metadata": {},
     "output_type": "execute_result"
    }
   ],
   "source": [
    "ans = ((NCX(3,2) * NCX(10-2,2-2)) / NCX(10,2))\n",
    "ans"
   ]
  },
  {
   "cell_type": "code",
   "execution_count": null,
   "id": "e85005b9",
   "metadata": {},
   "outputs": [],
   "source": []
  }
 ],
 "metadata": {
  "kernelspec": {
   "display_name": "Python 3 (ipykernel)",
   "language": "python",
   "name": "python3"
  },
  "language_info": {
   "codemirror_mode": {
    "name": "ipython",
    "version": 3
   },
   "file_extension": ".py",
   "mimetype": "text/x-python",
   "name": "python",
   "nbconvert_exporter": "python",
   "pygments_lexer": "ipython3",
   "version": "3.9.7"
  }
 },
 "nbformat": 4,
 "nbformat_minor": 5
}
