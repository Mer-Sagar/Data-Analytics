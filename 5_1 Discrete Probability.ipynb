{
 "cells": [
  {
   "cell_type": "markdown",
   "id": "89576223",
   "metadata": {},
   "source": [
    "# Discrete Uniform Probability Function"
   ]
  },
  {
   "cell_type": "markdown",
   "id": "fe05bffd",
   "metadata": {},
   "source": [
    "### f(x) = 1/n"
   ]
  },
  {
   "cell_type": "code",
   "execution_count": 48,
   "id": "e22c21f8",
   "metadata": {},
   "outputs": [],
   "source": [
    "import matplotlib.pyplot as plt\n",
    "import pandas as pd"
   ]
  },
  {
   "cell_type": "code",
   "execution_count": 11,
   "id": "d1537e29",
   "metadata": {},
   "outputs": [],
   "source": [
    "x = []\n",
    "fx = []\n",
    "\n",
    "for i in range(0,6):\n",
    "    x.append(i) \n"
   ]
  },
  {
   "cell_type": "code",
   "execution_count": 12,
   "id": "de1a2331",
   "metadata": {},
   "outputs": [
    {
     "name": "stdout",
     "output_type": "stream",
     "text": [
      "Enter Value of F(x) : --> 0.18\n",
      "Enter Value of F(x) : --> 0.39\n",
      "Enter Value of F(x) : --> 0.24\n",
      "Enter Value of F(x) : --> 0.14\n",
      "Enter Value of F(x) : --> 0.04\n",
      "Enter Value of F(x) : --> 0.01\n"
     ]
    }
   ],
   "source": [
    "for j in range(len(x)):\n",
    "    fx.append(float(input(\"Enter Value of F(x) : --> \"))) "
   ]
  },
  {
   "cell_type": "code",
   "execution_count": 15,
   "id": "5531ca7b",
   "metadata": {},
   "outputs": [
    {
     "name": "stdout",
     "output_type": "stream",
     "text": [
      "1.0\n"
     ]
    },
    {
     "data": {
      "text/plain": [
       "[0.18, 0.39, 0.24, 0.14, 0.04, 0.01]"
      ]
     },
     "execution_count": 15,
     "metadata": {},
     "output_type": "execute_result"
    }
   ],
   "source": [
    "print(sum(fx))\n",
    "fx"
   ]
  },
  {
   "cell_type": "markdown",
   "id": "ffe24e4f",
   "metadata": {},
   "source": [
    "# Expected Value of Discrete Random Variable"
   ]
  },
  {
   "cell_type": "markdown",
   "id": "6c8f0068",
   "metadata": {},
   "source": [
    "### x f(x)"
   ]
  },
  {
   "cell_type": "code",
   "execution_count": 52,
   "id": "8c819e94",
   "metadata": {},
   "outputs": [
    {
     "data": {
      "text/plain": [
       "1.5"
      ]
     },
     "execution_count": 52,
     "metadata": {},
     "output_type": "execute_result"
    }
   ],
   "source": [
    "n = len(x)\n",
    "Mu = []\n",
    "\n",
    "for j in range(n):    \n",
    "    Mu.append(x[j] * fx[j])\n",
    "    \n",
    "M = sum(Mu)\n",
    "M"
   ]
  },
  {
   "cell_type": "markdown",
   "id": "f74d198e",
   "metadata": {},
   "source": [
    "# Variance Of Discreate Random Variable "
   ]
  },
  {
   "attachments": {
    "1.png": {
     "image/png": "[encoded data removed]"
    }
   },
   "cell_type": "markdown",
   "id": "0d06764e",
   "metadata": {},
   "source": [
    "![1.png](attachment:1.png)"
   ]
  },
  {
   "cell_type": "code",
   "execution_count": 46,
   "id": "3e0ce939",
   "metadata": {},
   "outputs": [
    {
     "data": {
      "text/plain": [
       "1.25"
      ]
     },
     "execution_count": 46,
     "metadata": {},
     "output_type": "execute_result"
    }
   ],
   "source": [
    "var = []\n",
    "for l in range(n):\n",
    "    var.append(round(  pow((x[l] - M),2) * fx[l]  ,4 ))\n",
    "\n",
    "sum(var)"
   ]
  },
  {
   "cell_type": "code",
   "execution_count": 64,
   "id": "cd7990c8",
   "metadata": {},
   "outputs": [
    {
     "name": "stdout",
     "output_type": "stream",
     "text": [
      "\t x \t | \t f(x) \t | \t (x-M)^2*f(x)\n",
      "============================================================\n",
      "\t 0 \t | \t 0.18 \t | \t  0.405\n",
      "\t 1 \t | \t 0.39 \t | \t  0.0975\n",
      "\t 2 \t | \t 0.24 \t | \t  0.06\n",
      "\t 3 \t | \t 0.14 \t | \t  0.315\n",
      "\t 4 \t | \t 0.04 \t | \t  0.25\n",
      "\t 5 \t | \t 0.01 \t | \t  0.1225\n"
     ]
    }
   ],
   "source": [
    "print(\"\\t x \\t | \\t f(x) \\t | \\t (x-M)^2*f(x)\")\n",
    "print(\"======\"*10)\n",
    "\n",
    "for i in range(n):\n",
    "    print(\"\\t\",x[i],\"\\t | \\t\",fx[i],\"\\t | \\t \",var[i])"
   ]
  },
  {
   "cell_type": "code",
   "execution_count": 102,
   "id": "e3374965",
   "metadata": {},
   "outputs": [
    {
     "data": {
      "text/plain": [
       "<BarContainer object of 6 artists>"
      ]
     },
     "execution_count": 102,
     "metadata": {},
     "output_type": "execute_result"
    },
    {
     "data": {
      "image/png": "[encoded data removed]",
      "text/plain": [
       "<Figure size 432x288 with 1 Axes>"
      ]
     },
     "metadata": {
      "needs_background": "light"
     },
     "output_type": "display_data"
    }
   ],
   "source": [
    "plt.xlabel(\"X\")\n",
    "plt.ylabel(\"F(x)\")\n",
    "plt.bar(x,var, color=\"orange\", edgecolor=\"black\", ls=\"--\",hatch=\"O\")"
   ]
  }
 ],
 "metadata": {
  "kernelspec": {
   "display_name": "Python 3 (ipykernel)",
   "language": "python",
   "name": "python3"
  },
  "language_info": {
   "codemirror_mode": {
    "name": "ipython",
    "version": 3
   },
   "file_extension": ".py",
   "mimetype": "text/x-python",
   "name": "python",
   "nbconvert_exporter": "python",
   "pygments_lexer": "ipython3",
   "version": "3.9.7"
  }
 },
 "nbformat": 4,
 "nbformat_minor": 5
}
