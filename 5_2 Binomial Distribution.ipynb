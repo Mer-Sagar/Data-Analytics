{
 "cells": [
  {
   "cell_type": "markdown",
   "id": "b4587456",
   "metadata": {},
   "source": [
    "# Sessional 2 Question. Binomial Probability Distribution, take x value 0 to 9 and find p(x). Plot x and p(x) and find Expected value and Variance for the distribution."
   ]
  },
  {
   "cell_type": "code",
   "execution_count": 2,
   "id": "d9845541",
   "metadata": {},
   "outputs": [],
   "source": [
    "def fact(no):\n",
    "    if no <= 0:\n",
    "        return 1\n",
    "    else:\n",
    "        return (no * fact(no-1))\n",
    "\n",
    "# def fact(no):\n",
    "#     return math.factorial(no)\n",
    "    "
   ]
  },
  {
   "cell_type": "code",
   "execution_count": 3,
   "id": "2b654622",
   "metadata": {},
   "outputs": [],
   "source": [
    "def NCX(n,x):\n",
    "    upper = fact(n)\n",
    "    lower = (fact(x) * fact(n-x))\n",
    "#     upper = math.factorial(n)\n",
    "#     lower = (math.factorial(x) * math.factorial(n-x))\n",
    "    return (upper/lower)"
   ]
  },
  {
   "cell_type": "code",
   "execution_count": 4,
   "id": "97e3dd2c",
   "metadata": {},
   "outputs": [],
   "source": [
    "#NCX(6,2)"
   ]
  },
  {
   "cell_type": "code",
   "execution_count": 18,
   "id": "722b3749",
   "metadata": {},
   "outputs": [
    {
     "name": "stdout",
     "output_type": "stream",
     "text": [
      "Enter Value of N: 8\n"
     ]
    },
    {
     "data": {
      "text/plain": [
       "8.0"
      ]
     },
     "execution_count": 18,
     "metadata": {},
     "output_type": "execute_result"
    }
   ],
   "source": [
    "n=float(input(\"Enter Value of N: \"))\n",
    "n"
   ]
  },
  {
   "cell_type": "code",
   "execution_count": 23,
   "id": "c3892abb",
   "metadata": {},
   "outputs": [
    {
     "name": "stdout",
     "output_type": "stream",
     "text": [
      "Enter Value of p: 0.2\n"
     ]
    },
    {
     "data": {
      "text/plain": [
       "0.2"
      ]
     },
     "execution_count": 23,
     "metadata": {},
     "output_type": "execute_result"
    }
   ],
   "source": [
    "p=float(input(\"Enter Value of p: \"))\n",
    "p"
   ]
  },
  {
   "cell_type": "code",
   "execution_count": 24,
   "id": "cad1e192",
   "metadata": {},
   "outputs": [
    {
     "data": {
      "text/plain": [
       "[0.17, 0.34, 0.29, 0.15, 0.05, 0.01, 0.0, 0.0, 0.0, 0.0]"
      ]
     },
     "execution_count": 24,
     "metadata": {},
     "output_type": "execute_result"
    }
   ],
   "source": [
    "px=[]\n",
    "x=[]\n",
    "for i in range(10):\n",
    "    #ans = (NCX(n,i) * (p**i) * (1-p)**(n-i))\n",
    "    ans = round((NCX(n,i) * pow(p,i) * pow(1-p,n-i)),2)\n",
    "    #print(ans)\n",
    "    px.append(ans)\n",
    "    x.append(i)\n",
    "    \n",
    "px"
   ]
  },
  {
   "cell_type": "code",
   "execution_count": 25,
   "id": "2efe3cf3",
   "metadata": {},
   "outputs": [
    {
     "name": "stdout",
     "output_type": "stream",
     "text": [
      "X \t|\t P(X)\n",
      "=====================\n",
      "0 \t|\t 0.17\n",
      "1 \t|\t 0.34\n",
      "2 \t|\t 0.29\n",
      "3 \t|\t 0.15\n",
      "4 \t|\t 0.05\n",
      "5 \t|\t 0.01\n",
      "6 \t|\t 0.0\n",
      "7 \t|\t 0.0\n",
      "8 \t|\t 0.0\n",
      "9 \t|\t 0.0\n"
     ]
    }
   ],
   "source": [
    "print(\"X \\t|\\t P(X)\")\n",
    "print(\"===\"*7)\n",
    "for i in range(len(x)):\n",
    "\n",
    "    print(x[i],\"\\t|\\t\",px[i])\n",
    "    #print()\n"
   ]
  },
  {
   "cell_type": "markdown",
   "id": "0023edbd",
   "metadata": {},
   "source": [
    "# Plotting X and P(X) in Graph "
   ]
  },
  {
   "cell_type": "code",
   "execution_count": 26,
   "id": "116ea462",
   "metadata": {},
   "outputs": [
    {
     "data": {
      "text/plain": [
       "Text(0.5, 1.0, 'Bar Graph of X and P(X)')"
      ]
     },
     "execution_count": 26,
     "metadata": {},
     "output_type": "execute_result"
    },
    {
     "data": {
      "image/png": "[encoded data removed]",
      "text/plain": [
       "<Figure size 432x288 with 1 Axes>"
      ]
     },
     "metadata": {
      "needs_background": "light"
     },
     "output_type": "display_data"
    }
   ],
   "source": [
    "import matplotlib.pyplot as plt\n",
    "plt.bar(x,px,color=\"Orange\",edgecolor=\"black\")\n",
    "plt.xlabel(\"X\")\n",
    "plt.ylabel(\"P(X)\")\n",
    "plt.title(\"Bar Graph of X and P(X)\")\n"
   ]
  },
  {
   "cell_type": "markdown",
   "id": "e2f4daab",
   "metadata": {},
   "source": [
    "# Expected Value of the Binomial Distribution"
   ]
  },
  {
   "cell_type": "code",
   "execution_count": 156,
   "id": "08cc1b57",
   "metadata": {},
   "outputs": [],
   "source": [
    "def Expected(n,p):\n",
    "    #expect = round(n*p,2)\n",
    "    expect = n*p\n",
    "    print(\"Expected Value of Binomial Distribution is: \",round(expect,2))"
   ]
  },
  {
   "cell_type": "code",
   "execution_count": 157,
   "id": "2959d197",
   "metadata": {},
   "outputs": [
    {
     "name": "stdout",
     "output_type": "stream",
     "text": [
      "Expected Value of Binomial Distribution is:  1.38\n"
     ]
    }
   ],
   "source": [
    "Expected(n,p)"
   ]
  },
  {
   "cell_type": "markdown",
   "id": "9255ae04",
   "metadata": {},
   "source": [
    "# Variance of the Binomial Distribution"
   ]
  },
  {
   "cell_type": "code",
   "execution_count": 168,
   "id": "f623f120",
   "metadata": {},
   "outputs": [],
   "source": [
    "def Variance(n,p):\n",
    "    var = (n*p) * (1-p)\n",
    "    print(\"Expected Value of Binomial Distribution is: \",round(var,2))"
   ]
  },
  {
   "cell_type": "code",
   "execution_count": 169,
   "id": "b09dc5d7",
   "metadata": {},
   "outputs": [
    {
     "name": "stdout",
     "output_type": "stream",
     "text": [
      "Expected Value of Binomial Distribution is:  1.06\n"
     ]
    }
   ],
   "source": [
    "Variance(n,p)"
   ]
  },
  {
   "cell_type": "code",
   "execution_count": null,
   "id": "7e23d3fe",
   "metadata": {},
   "outputs": [],
   "source": []
  }
 ],
 "metadata": {
  "kernelspec": {
   "display_name": "Python 3 (ipykernel)",
   "language": "python",
   "name": "python3"
  },
  "language_info": {
   "codemirror_mode": {
    "name": "ipython",
    "version": 3
   },
   "file_extension": ".py",
   "mimetype": "text/x-python",
   "name": "python",
   "nbconvert_exporter": "python",
   "pygments_lexer": "ipython3",
   "version": "3.9.7"
  }
 },
 "nbformat": 4,
 "nbformat_minor": 5
}
